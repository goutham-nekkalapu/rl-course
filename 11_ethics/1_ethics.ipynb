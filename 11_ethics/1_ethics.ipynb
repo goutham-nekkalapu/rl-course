{
 "cells": [
  {
   "cell_type": "markdown",
   "metadata": {
    "slideshow": {
     "slide_type": "skip"
    },
    "toc": true
   },
   "source": [
    "<h1>Table of Contents<span class=\"tocSkip\"></span></h1>\n",
    "<div class=\"toc\"><ul class=\"toc-item\"><li><span><a href=\"#What-is-Spiderman's-motto?\" data-toc-modified-id=\"What-is-Spiderman's-motto?-1\">What is Spiderman's motto?</a></span><ul class=\"toc-item\"><li><span><a href=\"#Parts-of-ethics-we-are-NOT-talking-about-today\" data-toc-modified-id=\"Parts-of-ethics-we-are-NOT-talking-about-today-1.1\">Parts of ethics we are NOT talking about today</a></span></li><li><span><a href=\"#Parts-of-ethics-we-are-talking-about-today\" data-toc-modified-id=\"Parts-of-ethics-we-are-talking-about-today-1.2\">Parts of ethics we are talking about today</a></span></li><li><span><a href=\"#What-is-Data-Ethics?\" data-toc-modified-id=\"What-is-Data-Ethics?-1.3\">What is Data Ethics?</a></span></li><li><span><a href=\"#Word-Vectors\" data-toc-modified-id=\"Word-Vectors-1.4\">Word Vectors</a></span></li><li><span><a href=\"#Word-Analogies\" data-toc-modified-id=\"Word-Analogies-1.5\">Word Analogies</a></span></li><li><span><a href=\"#Word-Analogies\" data-toc-modified-id=\"Word-Analogies-1.6\">Word Analogies</a></span></li><li><span><a href=\"#Word-Analogies-with-Word-Vectors\" data-toc-modified-id=\"Word-Analogies-with-Word-Vectors-1.7\">Word Analogies with Word Vectors</a></span></li><li><span><a href=\"#-What-is-the-goal-of-Machine-Learning?\" data-toc-modified-id=\"-What-is-the-goal-of-Machine-Learning?-1.8\"> What is the goal of Machine Learning?</a></span></li><li><span><a href=\"#Applied-Modeling-Workflow\" data-toc-modified-id=\"Applied-Modeling-Workflow-1.9\">Applied Modeling Workflow</a></span></li><li><span><a href=\"#Applied-Modeling-Workflow\" data-toc-modified-id=\"Applied-Modeling-Workflow-1.10\">Applied Modeling Workflow</a></span></li><li><span><a href=\"#Student-Discussion\" data-toc-modified-id=\"Student-Discussion-1.11\">Student Discussion</a></span></li><li><span><a href=\"#-What-is-Bias?\" data-toc-modified-id=\"-What-is-Bias?-1.12\"> What is Bias?</a></span></li><li><span><a href=\"#Statistical-(Learning)-Bias\" data-toc-modified-id=\"Statistical-(Learning)-Bias-1.13\">Statistical (Learning) Bias</a></span></li><li><span><a href=\"#Social-Bias\" data-toc-modified-id=\"Social-Bias-1.14\">Social Bias</a></span></li><li><span><a href=\"#A-Tale-of-Two-Biases\" data-toc-modified-id=\"A-Tale-of-Two-Biases-1.15\">A Tale of Two Biases</a></span></li><li><span><a href=\"#Check-for-understanding\" data-toc-modified-id=\"Check-for-understanding-1.16\">Check for understanding</a></span></li><li><span><a href=\"#Methods-to-Handle-Imbalanced-Datasets\" data-toc-modified-id=\"Methods-to-Handle-Imbalanced-Datasets-1.17\">Methods to Handle Imbalanced Datasets</a></span></li><li><span><a href=\"#Equalized-Odds-\" data-toc-modified-id=\"Equalized-Odds--1.18\">Equalized Odds </a></span></li><li><span><a href=\"#Equalized-Odds-Advantages\" data-toc-modified-id=\"Equalized-Odds-Advantages-1.19\">Equalized Odds Advantages</a></span></li><li><span><a href=\"#Implicit-Association-Test-(IAT)\" data-toc-modified-id=\"Implicit-Association-Test-(IAT)-1.20\">Implicit Association Test (IAT)</a></span></li><li><span><a href=\"#Word-Embedding-Association-Test-(WEAT)\" data-toc-modified-id=\"Word-Embedding-Association-Test-(WEAT)-1.21\">Word Embedding Association Test (WEAT)</a></span></li><li><span><a href=\"#Student-Discussion\" data-toc-modified-id=\"Student-Discussion-1.22\">Student Discussion</a></span></li><li><span><a href=\"#Example-of-Personal-Ethical-Actions\" data-toc-modified-id=\"Example-of-Personal-Ethical-Actions-1.23\">Example of Personal Ethical Actions</a></span></li><li><span><a href=\"#Summary\" data-toc-modified-id=\"Summary-1.24\">Summary</a></span></li><li><span><a href=\"#-Bonus-Material\" data-toc-modified-id=\"-Bonus-Material-1.25\"> Bonus Material</a></span></li><li><span><a href=\"#Holding-automated-systems-to-different-/-higher-standards-than-current-human-systems\" data-toc-modified-id=\"Holding-automated-systems-to-different-/-higher-standards-than-current-human-systems-1.26\">Holding automated systems to different / higher standards than current human systems</a></span></li></ul></li></ul></div>"
   ]
  },
  {
   "cell_type": "markdown",
   "metadata": {
    "slideshow": {
     "slide_type": "slide"
    }
   },
   "source": [
    "<center><img src=\"images/ethics-word-cloud-9633056.jpg\" width=\"87%\"/></center>"
   ]
  },
  {
   "cell_type": "markdown",
   "metadata": {
    "slideshow": {
     "slide_type": "skip"
    }
   },
   "source": [
    "[Source](https://thumbs.dreamstime.com/z/ethics-word-cloud-9633056.jpg)"
   ]
  },
  {
   "cell_type": "markdown",
   "metadata": {
    "slideshow": {
     "slide_type": "skip"
    }
   },
   "source": [
    "Disclaimer:\n",
    "    \n",
    "Ethics is potential intense topic. It is emotionally laden.\n",
    "\n",
    "I'll try to be respective of everyone. I ask the same of you. \n",
    "\n",
    "Please be considerate when contributing in-class. "
   ]
  },
  {
   "cell_type": "markdown",
   "metadata": {
    "slideshow": {
     "slide_type": "slide"
    }
   },
   "source": [
    "<center><h1>What is Spiderman's motto?</h1></center>"
   ]
  },
  {
   "cell_type": "markdown",
   "metadata": {
    "slideshow": {
     "slide_type": "slide"
    }
   },
   "source": [
    "<center><img src=\"images/spiderman.jpg\" width=\"63%\"/></center>"
   ]
  },
  {
   "cell_type": "markdown",
   "metadata": {
    "slideshow": {
     "slide_type": "skip"
    }
   },
   "source": [
    "Source: https://en.wikipedia.org/wiki/With_great_power_comes_great_responsibility"
   ]
  },
  {
   "cell_type": "markdown",
   "metadata": {
    "slideshow": {
     "slide_type": "slide"
    }
   },
   "source": [
    "<center><h2>Parts of ethics we are NOT talking about today</h2></center>\n",
    "\n",
    "- Legal & compliance\n",
    "- Gamification and addiction of users\n",
    "- \"Dark Patterns\" - Companies acquire personal data through deception\n",
    "- Future technology implications"
   ]
  },
  {
   "cell_type": "markdown",
   "metadata": {
    "slideshow": {
     "slide_type": "skip"
    }
   },
   "source": [
    "Source: https://www.latimes.com/business/lazarus/la-fi-lazarus-dark-patterns-consumer-consent-20190625-story.html"
   ]
  },
  {
   "cell_type": "markdown",
   "metadata": {
    "slideshow": {
     "slide_type": "slide"
    }
   },
   "source": [
    "<center><h2>Parts of ethics we are talking about today</h2></center>\n",
    "\n",
    "- Brief overview.\n",
    "- Inspire you to think about it more.\n",
    "- Start developing your own viewpoint and structured approach."
   ]
  },
  {
   "cell_type": "markdown",
   "metadata": {
    "slideshow": {
     "slide_type": "slide"
    }
   },
   "source": [
    "<center><h2>What is Data Ethics?</h2></center> "
   ]
  },
  {
   "cell_type": "markdown",
   "metadata": {
    "slideshow": {
     "slide_type": "fragment"
    }
   },
   "source": [
    " Ethics is the study of right and wrong."
   ]
  },
  {
   "cell_type": "markdown",
   "metadata": {
    "slideshow": {
     "slide_type": "fragment"
    }
   },
   "source": [
    "Thus, Data Ethics is the study of right and wrong behavior involving data."
   ]
  },
  {
   "cell_type": "markdown",
   "metadata": {
    "slideshow": {
     "slide_type": "skip"
    }
   },
   "source": [
    "Source: Data Science from Scratch, 2nd edition by Joel Grus"
   ]
  },
  {
   "cell_type": "markdown",
   "metadata": {
    "slideshow": {
     "slide_type": "slide"
    }
   },
   "source": [
    "<center><h2>Word Vectors</h2></center>\n",
    "\n",
    "<center><img src=\"https://i2.wp.com/adventuresinmachinelearning.com/wp-content/uploads/2017/07/Word2Vec-softmax.jpg?fit=676%2C425&ssl=1\" width=\"55%\"/></center>\n",
    "\n",
    "Represent words as a vector of numbers (e.g., word2vec, GloVe, …)\n",
    "\n",
    "Aka, word embeddings "
   ]
  },
  {
   "cell_type": "markdown",
   "metadata": {
    "slideshow": {
     "slide_type": "slide"
    }
   },
   "source": [
    "<center><img src=\"images/cosine.png\" width=\"75%\"/></center>"
   ]
  },
  {
   "cell_type": "markdown",
   "metadata": {
    "slideshow": {
     "slide_type": "slide"
    }
   },
   "source": [
    "<center><h2>Word Analogies</h2></center>\n",
    "<br>\n",
    "<br>\n",
    "<center>A man is to king as woman is to _______.</center>"
   ]
  },
  {
   "cell_type": "markdown",
   "metadata": {
    "slideshow": {
     "slide_type": "slide"
    }
   },
   "source": [
    "<center><h2>Word Analogies</h2></center>\n",
    "<br>\n",
    "<br>\n",
    "<center>A man is to king as woman is to <b>queen</b>.</center>"
   ]
  },
  {
   "cell_type": "markdown",
   "metadata": {
    "slideshow": {
     "slide_type": "slide"
    }
   },
   "source": [
    "<center><h2>Word Analogies with Word Vectors</h2></center>\n",
    "\n",
    "<center><img src=\"images/gender.gif\" width=\"75%\"/></center>"
   ]
  },
  {
   "cell_type": "code",
   "execution_count": null,
   "metadata": {
    "scrolled": true,
    "slideshow": {
     "slide_type": "skip"
    }
   },
   "outputs": [],
   "source": [
    "# Import genism (easy way or hard way)\n",
    "try:\n",
    "    import gensim\n",
    "except ImportError:\n",
    "    import pip\n",
    "    import sys\n",
    "    import subprocess\n",
    "    subprocess.check_call([sys.executable, '-m', 'pip', 'install', 'gensim'])\n",
    "    \n",
    "    import gensim"
   ]
  },
  {
   "cell_type": "code",
   "execution_count": null,
   "metadata": {
    "scrolled": true,
    "slideshow": {
     "slide_type": "skip"
    }
   },
   "outputs": [],
   "source": [
    "import warnings\n",
    "warnings.filterwarnings('always')\n",
    "\n",
    "import gensim.downloader as api\n",
    "\n",
    "try:\n",
    "    word_vectors\n",
    "except NameError:\n",
    "    word_vectors = api.load(\"glove-wiki-gigaword-100\")  # Load pre-trained word-vectors from gensim-data"
   ]
  },
  {
   "cell_type": "code",
   "execution_count": 126,
   "metadata": {
    "scrolled": true,
    "slideshow": {
     "slide_type": "slide"
    }
   },
   "outputs": [],
   "source": [
    "def complete_analogy(given_1, given_2, given_3):\n",
    "    \"A man is to king as woman is to _________.\"\n",
    "    blank = word_vectors.most_similar(positive=[given_3.lower(), given_2.lower()], \n",
    "                                      negative=[given_1.lower()])\n",
    "    return blank[0][0]"
   ]
  },
  {
   "cell_type": "code",
   "execution_count": 125,
   "metadata": {
    "scrolled": true,
    "slideshow": {
     "slide_type": "fragment"
    }
   },
   "outputs": [
    {
     "name": "stdout",
     "output_type": "stream",
     "text": [
      "A man is to king as woman is to QUEEN.\n"
     ]
    }
   ],
   "source": [
    "given_1 = 'man'\n",
    "given_2 = 'king'\n",
    "given_3 = 'woman'\n",
    "print(f\"A {given_1} is to {given_2} as {given_3} is to {complete_analogy(given_1, given_2, given_3).upper()}.\")"
   ]
  },
  {
   "cell_type": "code",
   "execution_count": 127,
   "metadata": {
    "scrolled": true,
    "slideshow": {
     "slide_type": "slide"
    }
   },
   "outputs": [
    {
     "name": "stdout",
     "output_type": "stream",
     "text": [
      "A man is to butcher as woman is to BAKERY.\n"
     ]
    }
   ],
   "source": [
    "given_1 = 'man'\n",
    "given_2 = 'butcher' \n",
    "given_3 = 'woman'\n",
    "print(f\"A {given_1} is to {given_2} as {given_3} is to {complete_analogy(given_1, given_2, given_3).upper()}.\")"
   ]
  },
  {
   "cell_type": "code",
   "execution_count": 128,
   "metadata": {
    "scrolled": true,
    "slideshow": {
     "slide_type": "fragment"
    }
   },
   "outputs": [
    {
     "name": "stdout",
     "output_type": "stream",
     "text": [
      "A woman is to baker as man is to SMITH.\n"
     ]
    }
   ],
   "source": [
    "given_1 = 'woman'\n",
    "given_2 = 'baker'\n",
    "given_3 = 'man'\n",
    "print(f\"A {given_1} is to {given_2} as {given_3} is to {complete_analogy(given_1, given_2, given_3).upper()}.\")"
   ]
  },
  {
   "cell_type": "code",
   "execution_count": 129,
   "metadata": {
    "scrolled": true,
    "slideshow": {
     "slide_type": "fragment"
    }
   },
   "outputs": [
    {
     "name": "stdout",
     "output_type": "stream",
     "text": [
      "A man is to doctor as woman is to NURSE.\n"
     ]
    }
   ],
   "source": [
    "given_1 = 'man'\n",
    "given_2 = 'doctor'\n",
    "given_3 = 'woman'\n",
    "print(f\"A {given_1} is to {given_2} as {given_3} is to {complete_analogy(given_1, given_2, given_3).upper()}.\")"
   ]
  },
  {
   "cell_type": "code",
   "execution_count": 131,
   "metadata": {
    "scrolled": true,
    "slideshow": {
     "slide_type": "slide"
    }
   },
   "outputs": [
    {
     "name": "stdout",
     "output_type": "stream",
     "text": [
      "A man is to apple as woman is to MICROSOFT.\n"
     ]
    }
   ],
   "source": [
    "# Let's try other ones …\n",
    "given_1 = 'man'\n",
    "given_2 = 'apple' # TODO: Your idea\n",
    "given_3 = 'woman'\n",
    "print(f\"A {given_1} is to {given_2} as {given_3} is to {complete_analogy(given_1, given_2, given_3).upper()}.\")"
   ]
  },
  {
   "cell_type": "markdown",
   "metadata": {
    "slideshow": {
     "slide_type": "skip"
    }
   },
   "source": [
    "Source:\n",
    "\n",
    "- https://towardsdatascience.com/gender-bias-word-embeddings-76d9806a0e17\n",
    "- https://radimrehurek.com/gensim/models/keyedvectors.html\n",
    "- http://matthewkenney.site/biases.html"
   ]
  },
  {
   "cell_type": "markdown",
   "metadata": {
    "slideshow": {
     "slide_type": "slide"
    }
   },
   "source": [
    "<center><h2> What is the goal of Machine Learning?</h2></center>"
   ]
  },
  {
   "cell_type": "markdown",
   "metadata": {
    "slideshow": {
     "slide_type": "fragment"
    }
   },
   "source": [
    "<center>Learn a function from data that can generalize to unseen data.</center>"
   ]
  },
  {
   "cell_type": "markdown",
   "metadata": {
    "slideshow": {
     "slide_type": "slide"
    }
   },
   "source": [
    "<center><h2>Applied Modeling Workflow</h2></center>\n",
    "\n",
    "<center><img src=\"images/modeling.png\" width=\"100%\"/></center>"
   ]
  },
  {
   "cell_type": "markdown",
   "metadata": {
    "slideshow": {
     "slide_type": "slide"
    }
   },
   "source": [
    "<center><h2>Applied Modeling Workflow</h2></center>\n",
    "\n",
    "<center><img src=\"images/modeling_high_level.png\" width=\"100%\"/></center> "
   ]
  },
  {
   "cell_type": "markdown",
   "metadata": {
    "slideshow": {
     "slide_type": "skip"
    }
   },
   "source": [
    "Source: “Software Engineering for Machine Learning: A case study.”\n",
    "https://www.microsoft.com/en-us/research/uploads/prod/2019/03/amershi-icse-2019_Software_Engineering_for_Machine_Learning.pdf\n",
    " "
   ]
  },
  {
   "cell_type": "markdown",
   "metadata": {
    "slideshow": {
     "slide_type": "slide"
    }
   },
   "source": [
    "<center><h2>Student Discussion</h2></center>\n",
    "\n",
    "<center><img src=\"images/modeling_high_level.png\" width=\"100%\"/></center> \n",
    "\n",
    "If the real-world is biased, should we change the data, model, or actions to correct for that?"
   ]
  },
  {
   "cell_type": "markdown",
   "metadata": {
    "slideshow": {
     "slide_type": "skip"
    }
   },
   "source": [
    "Should we ignore bias at all stages until actions?"
   ]
  },
  {
   "cell_type": "markdown",
   "metadata": {
    "slideshow": {
     "slide_type": "fragment"
    }
   },
   "source": [
    "If you are building a job recommendation engine, how should you handle differences between men and women?"
   ]
  },
  {
   "cell_type": "markdown",
   "metadata": {
    "slideshow": {
     "slide_type": "skip"
    }
   },
   "source": [
    "[An interactive game to understand bias in hiring](https://www.survivalofthebestfit.com/)"
   ]
  },
  {
   "cell_type": "markdown",
   "metadata": {
    "slideshow": {
     "slide_type": "slide"
    }
   },
   "source": [
    "<center><h2> What is Bias?</h2></center>"
   ]
  },
  {
   "cell_type": "markdown",
   "metadata": {
    "slideshow": {
     "slide_type": "slide"
    }
   },
   "source": [
    "<center><h2>Statistical (Learning) Bias</h2></center>\n",
    "\n",
    "A formal mathematical concept:\n",
    "\n",
    "$$Bias_θ[\\hatθ] = \\mathbf{E}_{x|θ}[\\hatθ -  θ ]$$\n",
    "\n",
    "The bias of an estimator is the difference between this estimator's expected value and the true value of the parameter being estimated.\n",
    "\n",
    "Our ability to learn the underlying patterns in the data.\n",
    "\n",
    "Statistically unbiased means is the decision rules the model learns accurately reflect the data."
   ]
  },
  {
   "cell_type": "markdown",
   "metadata": {
    "slideshow": {
     "slide_type": "slide"
    }
   },
   "source": [
    "<center><h2>Social Bias</h2></center>\n",
    "\n",
    "Common sense definition.\n",
    "\n",
    "The data set and model should reflect our ideal values as a culture.\n",
    "\n",
    "Socially unbiased means decision rules of the system should consistent how we want the world to be."
   ]
  },
  {
   "cell_type": "markdown",
   "metadata": {
    "slideshow": {
     "slide_type": "slide"
    }
   },
   "source": [
    "<center><h2>A Tale of Two Biases</h2></center>\n",
    "<br>\n",
    "<br>\n",
    "\n",
    "\n",
    "<center>Statistical bias is a measure of how we model the world as <b>it is</b>.</center>\n",
    "<br>\n",
    "<center>Social bias is a measure of how we model the world as it <b>should be</b>.</center>\n",
    "<br>"
   ]
  },
  {
   "cell_type": "markdown",
   "metadata": {
    "slideshow": {
     "slide_type": "fragment"
    }
   },
   "source": [
    "<center>Social bias is independent of statistical bias.</center>"
   ]
  },
  {
   "cell_type": "markdown",
   "metadata": {
    "slideshow": {
     "slide_type": "skip"
    }
   },
   "source": [
    "Source: https://a16z.com/2019/06/19/history-and-future-of-machine-learning/ \n",
    "@15:00"
   ]
  },
  {
   "cell_type": "markdown",
   "metadata": {
    "slideshow": {
     "slide_type": "slide"
    }
   },
   "source": [
    "<center><h2>Check for understanding</h2></center>\n",
    "\n",
    "If we have unbalanced data, what techniques can we use handle that?\n",
    "\n",
    "Say we our loan data is a result of \"redlining\", fewer loans were approved for people of color.\n",
    "\n",
    "<br>\n",
    "<br>\n",
    "\n",
    "<center>Think, Pair, Share  </center>\n",
    "<center>(There are at least 4 methods)</center>"
   ]
  },
  {
   "cell_type": "markdown",
   "metadata": {
    "slideshow": {
     "slide_type": "slide"
    }
   },
   "source": [
    "<center><h2>Methods to Handle Imbalanced Datasets</h2></center>\n",
    "\n",
    "1. Get more / better data.\n",
    "1. Resampling:\n",
    "    1. Down-sample majority group\n",
    "    2. Over-sample minority group\n",
    "    3. Representative sampling of both groups\n",
    "1. Pick a robust algorithm (e.g., SVM).\n",
    "1. Customize the loss function."
   ]
  },
  {
   "cell_type": "markdown",
   "metadata": {
    "slideshow": {
     "slide_type": "slide"
    }
   },
   "source": [
    "<center><h2>Equalized Odds </h2></center>\n",
    "<br>\n",
    "$$ P(approved|color) = P(approved|non-color)$$\n",
    "\n",
    "Given social biased data, impose an external constraint to get the outcome we want."
   ]
  },
  {
   "cell_type": "markdown",
   "metadata": {
    "slideshow": {
     "slide_type": "fragment"
    }
   },
   "source": [
    "Used to customize a loss function, thus a variation of constrained optimization."
   ]
  },
  {
   "cell_type": "markdown",
   "metadata": {
    "slideshow": {
     "slide_type": "slide"
    }
   },
   "source": [
    "<center><h2>Equalized Odds Advantages</h2></center>\n",
    " \n",
    "- Not collecting and storing sensitive data.\n",
    "- Directly acting in an socially unbiased way."
   ]
  },
  {
   "cell_type": "markdown",
   "metadata": {
    "slideshow": {
     "slide_type": "skip"
    }
   },
   "source": [
    "Sources:\n",
    "\n",
    "- https://www.chicagotribune.com/business/ct-biz-modern-day-redlining-20180215-story.html\n",
    "- [Credit Risk Analysis Using Machine and Deep Learning Models](https://www.mdpi.com/2227-9091/6/2/38/pdf)\n",
    "- [Fairer machine learning in the real world: Mitigating discrimination without collecting sensitive data](https://journals.sagepub.com/doi/full/10.1177/2053951717743530)\n",
    "- [Equality of Opportunity in Supervised Learning](http://papers.nips.cc/paper/6374-equality-of-opportunity-in-supervised-learning.pdf)"
   ]
  },
  {
   "cell_type": "markdown",
   "metadata": {
    "slideshow": {
     "slide_type": "slide"
    }
   },
   "source": [
    "<center><h2>Implicit Association Test (IAT)</h2></center>\n",
    "\n",
    "<center><img src=\"http://blogs.nottingham.ac.uk/biasandblame/files/2014/05/IAT.gif\" width=\"100%\"/></center>"
   ]
  },
  {
   "cell_type": "markdown",
   "metadata": {
    "slideshow": {
     "slide_type": "skip"
    }
   },
   "source": [
    "[Take the Implicit Association Test (IAT) yourself](https://implicit.harvard.edu/implicit/takeatest.html )"
   ]
  },
  {
   "cell_type": "markdown",
   "metadata": {
    "slideshow": {
     "slide_type": "slide"
    }
   },
   "source": [
    "<center><h2>Word Embedding Association Test (WEAT)</h2></center>\n",
    "\n",
    "<center><img src=\"images/WEAT_table_1600_ppi.png\" width=\"65%\"/></center>"
   ]
  },
  {
   "cell_type": "markdown",
   "metadata": {
    "slideshow": {
     "slide_type": "skip"
    }
   },
   "source": [
    "Colors indicates whether the direction of the measured bias is in line with (blue) or against (yellow) the common human biases recorded by the Implicit Association Tests.\n",
    "\n",
    "p-value (p < 0.01) \n",
    "\n",
    "Sources:\n",
    "\n",
    "- https://www.groundai.com/project/understanding-the-origins-of-bias-in-word-embeddings/\n",
    "- https://chinagdg.org/2018/04/text-embedding-models-contain-bias-heres-why-that-matters/"
   ]
  },
  {
   "cell_type": "markdown",
   "metadata": {
    "slideshow": {
     "slide_type": "slide"
    }
   },
   "source": [
    "<center><h2>Student Discussion</h2></center>\n",
    "<br>\n",
    "<br>\n",
    "<center>What can you do in your next job to act ethically?</center>"
   ]
  },
  {
   "cell_type": "markdown",
   "metadata": {
    "slideshow": {
     "slide_type": "slide"
    }
   },
   "source": [
    "<center><h2>Example of Personal Ethical Actions</h2></center>"
   ]
  },
  {
   "cell_type": "markdown",
   "metadata": {
    "slideshow": {
     "slide_type": "fragment"
    }
   },
   "source": [
    " - If feasible, take a job that is not incentivised to act unethically."
   ]
  },
  {
   "cell_type": "markdown",
   "metadata": {
    "slideshow": {
     "slide_type": "fragment"
    }
   },
   "source": [
    "- Create a checklist to ensure consistent treatment and not make simple mistakes.\n"
   ]
  },
  {
   "cell_type": "markdown",
   "metadata": {
    "slideshow": {
     "slide_type": "fragment"
    }
   },
   "source": [
    " - Create a personal oath."
   ]
  },
  {
   "cell_type": "markdown",
   "metadata": {
    "slideshow": {
     "slide_type": "fragment"
    }
   },
   "source": [
    "[My current favoriate oath](https://github.com/Widdershin/programmers-oath)"
   ]
  },
  {
   "cell_type": "markdown",
   "metadata": {
    "slideshow": {
     "slide_type": "skip"
    }
   },
   "source": [
    "Source:\n",
    "- [16 Things You Can Do to Make Tech More Ethical](https://www.fast.ai/2019/04/22/ethics-action-1/)\n",
    "- ACM Code of Ethics - https://www.acm.org/code-of-ethics\n",
    "- IEEE Code of Ethics - https://www.ieee.org/about/corporate/governance/p7-8.html\n",
    "-    https://github.com/Widdershin/programmers-oath\n",
    "-  https://blog.cleancoder.com/uncle-bob/2015/11/18/TheProgrammersOath.html"
   ]
  },
  {
   "cell_type": "markdown",
   "metadata": {
    "slideshow": {
     "slide_type": "slide"
    }
   },
   "source": [
    "<center><h2>Summary</h2></center>\n",
    "\n",
    "- As ML & AI become more common and more important, we have to be more mindful of the impact of the systems we create.\n",
    "- Be explicit in your definitions.\n",
    "- Be rigorous in your process.\n",
    "- Take a principled, structured approach."
   ]
  },
  {
   "cell_type": "markdown",
   "metadata": {
    "slideshow": {
     "slide_type": "slide"
    }
   },
   "source": [
    "  "
   ]
  },
  {
   "cell_type": "markdown",
   "metadata": {
    "slideshow": {
     "slide_type": "slide"
    }
   },
   "source": [
    " Bonus Material\n",
    " ------"
   ]
  },
  {
   "cell_type": "code",
   "execution_count": null,
   "metadata": {
    "scrolled": true,
    "slideshow": {
     "slide_type": "slide"
    }
   },
   "outputs": [],
   "source": [
    "given_1 = 'black'\n",
    "given_2 = 'criminal'\n",
    "given_3 = 'white'\n",
    "print(f\"A {given_1} is to {given_2} as {given_3} is to {complete_analogy(given_1, given_2, given_3).upper()}.\")"
   ]
  },
  {
   "cell_type": "code",
   "execution_count": null,
   "metadata": {
    "scrolled": true,
    "slideshow": {
     "slide_type": "fragment"
    }
   },
   "outputs": [],
   "source": [
    "given_1 = 'white'\n",
    "given_2 = 'criminal'\n",
    "given_3 = 'black'\n",
    "print(f\"A {given_1} is to {given_2} as {given_3} is to {complete_analogy(given_1, given_2, given_3).upper()}.\")"
   ]
  },
  {
   "cell_type": "markdown",
   "metadata": {
    "slideshow": {
     "slide_type": "slide"
    }
   },
   "source": [
    "<center><h2>Holding automated systems to different / higher standards than current human systems</h2></center>\n",
    "\n",
    "How we want our self-driving cars to have reasonable answers to the Trolley Problem, but no one sitting for their DMV exam is ever asked how they would respond\n",
    "\n",
    "https://a16z.com/2019/06/19/history-and-future-of-machine-learning/"
   ]
  },
  {
   "cell_type": "markdown",
   "metadata": {
    "slideshow": {
     "slide_type": "slide"
    }
   },
   "source": [
    "Specific example: You are working at a big tech company that has a dedicated pipeline for hiring new grads from Stanford. Stanford explicitly supports a race-conscious admissions processes. Similar policies are currently being tried in court for potentially being anti-Asian-American. What should you do?"
   ]
  },
  {
   "cell_type": "markdown",
   "metadata": {
    "slideshow": {
     "slide_type": "skip"
    }
   },
   "source": [
    "Legal brief:\n",
    "https://ogc.stanford.edu/sites/g/files/sbiybj10131/f/2018-07-30_amicus_brief_final.pdf\n",
    "\n",
    "Coverage:\n",
    "https://stanfordmag.org/contents/who-gets-in"
   ]
  },
  {
   "cell_type": "markdown",
   "metadata": {
    "slideshow": {
     "slide_type": "slide"
    }
   },
   "source": [
    "[ethics and data science book](https://learning.oreilly.com/library/view/ethics-and-data/9781492043898/#toc)"
   ]
  },
  {
   "cell_type": "markdown",
   "metadata": {
    "slideshow": {
     "slide_type": "slide"
    }
   },
   "source": [
    " "
   ]
  }
 ],
 "metadata": {
  "celltoolbar": "Slideshow",
  "kernelspec": {
   "display_name": "Python 3",
   "language": "python",
   "name": "python3"
  },
  "language_info": {
   "codemirror_mode": {
    "name": "ipython",
    "version": 3
   },
   "file_extension": ".py",
   "mimetype": "text/x-python",
   "name": "python",
   "nbconvert_exporter": "python",
   "pygments_lexer": "ipython3",
   "version": "3.7.3"
  },
  "toc": {
   "base_numbering": 1,
   "nav_menu": {},
   "number_sections": false,
   "sideBar": false,
   "skip_h1_title": false,
   "title_cell": "Table of Contents",
   "title_sidebar": "Contents",
   "toc_cell": true,
   "toc_position": {},
   "toc_section_display": true,
   "toc_window_display": false
  }
 },
 "nbformat": 4,
 "nbformat_minor": 2
}
